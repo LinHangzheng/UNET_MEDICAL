{
 "cells": [
  {
   "cell_type": "code",
   "execution_count": 1,
   "metadata": {},
   "outputs": [],
   "source": [
    "%matplotlib tk\n",
    "import matplotlib.pyplot as plt\n",
    "import numpy as np\n",
    "\n",
    "from PIL import Image"
   ]
  },
  {
   "cell_type": "code",
   "execution_count": 2,
   "metadata": {},
   "outputs": [],
   "source": [
    "def get_input_box(im, min_points=10):\n",
    "    \"\"\"\n",
    "    Allows user to input line segments; computes centers and directions.\n",
    "    Inputs:\n",
    "        im: np.ndarray of shape (height, width, 3)\n",
    "        min_lines: minimum number of lines required\n",
    "    Returns:\n",
    "        n: number of lines from input\n",
    "        lines: np.ndarray of shape (3, n)\n",
    "            where each column denotes the parameters of the line equation\n",
    "        centers: np.ndarray of shape (3, n)\n",
    "            where each column denotes the homogeneous coordinates of the centers\n",
    "    \"\"\"\n",
    "    n = 0\n",
    "    lines = np.zeros((3, 0))\n",
    "    centers = np.zeros((3, 0))\n",
    "\n",
    "    plt.figure()\n",
    "    plt.imshow(im)\n",
    "    plt.show()\n",
    "    print('Set at least %d lines to compute vanishing point' % min_points)\n",
    "    x = []\n",
    "    \n",
    "    while True:\n",
    "        print('Click the two endpoints, use the right key to undo, and use the middle key to stop input')\n",
    "        clicked = plt.ginput(min_points, timeout=0, show_clicks=True)\n",
    "        for clk in clicked:\n",
    "            pt = np.array([clk[0], clk[1], 1])\n",
    "            plt.plot([pt[0]-260, pt[0]+260], [pt[1]-260, pt[1]-260], color='b')\n",
    "            plt.plot([pt[0]-260, pt[0]-260], [pt[1]-260, pt[1]+260], color='b')\n",
    "            plt.plot([pt[0]+260, pt[0]+260], [pt[1]+260, pt[1]-260], color='b')\n",
    "            plt.plot([pt[0]+260, pt[0]-260], [pt[1]+260, pt[1]+260], color='b')\n",
    "            x.append(pt)\n",
    "        break\n",
    "\n",
    "    return x"
   ]
  },
  {
   "cell_type": "code",
   "execution_count": 3,
   "metadata": {},
   "outputs": [
    {
     "name": "stderr",
     "output_type": "stream",
     "text": [
      "/home/hangzheng/anaconda3/envs/tf/lib/python3.7/site-packages/PIL/Image.py:3077: DecompressionBombWarning: Image size (102000000 pixels) exceeds limit of 89478485 pixels, could be decompression bomb DOS attack.\n",
      "  DecompressionBombWarning,\n"
     ]
    }
   ],
   "source": [
    "im = np.asarray(Image.open('label.jpg'))"
   ]
  },
  {
   "cell_type": "code",
   "execution_count": 4,
   "metadata": {},
   "outputs": [
    {
     "name": "stdout",
     "output_type": "stream",
     "text": [
      "Set at least 100 lines to compute vanishing point\n",
      "Click the two endpoints, use the right key to undo, and use the middle key to stop input\n"
     ]
    }
   ],
   "source": [
    "pts = get_input_box(im,100)"
   ]
  },
  {
   "cell_type": "code",
   "execution_count": 19,
   "metadata": {},
   "outputs": [
    {
     "name": "stdout",
     "output_type": "stream",
     "text": [
      "[array([705.10753319, 644.43046562,   1.        ]),\n",
      " array([1.74213202e+03, 6.07393877e+02, 1.00000000e+00]),\n",
      " array([2.70508333e+03, 6.93812584e+02, 1.00000000e+00]),\n",
      " array([3.65568910e+03, 7.80231291e+02, 1.00000000e+00]),\n",
      " array([4.66802253e+03, 7.43194702e+02, 1.00000000e+00]),\n",
      " array([5.55690066e+03, 7.80231291e+02, 1.00000000e+00]),\n",
      " array([6.53219750e+03, 9.28377646e+02, 1.00000000e+00]),\n",
      " array([7.61860410e+03, 8.29613409e+02, 1.00000000e+00]),\n",
      " array([8.64328306e+03, 9.03686587e+02, 1.00000000e+00]),\n",
      " array([9.54450672e+03, 9.40723176e+02, 1.00000000e+00]),\n",
      " array([6.55725415e+02, 1.58269071e+03, 1.00000000e+00]),\n",
      " array([1.64336778e+03, 1.61972730e+03, 1.00000000e+00]),\n",
      " array([2.60631909e+03, 1.66910942e+03, 1.00000000e+00]),\n",
      " array([3.61865252e+03, 1.70614601e+03, 1.00000000e+00]),\n",
      " array([4.61864041e+03, 1.66910942e+03, 1.00000000e+00]),\n",
      " array([5.56924619e+03, 1.71849154e+03, 1.00000000e+00]),\n",
      " array([6.53219750e+03, 1.86663789e+03, 1.00000000e+00]),\n",
      " array([7.58156751e+03, 1.82960131e+03, 1.00000000e+00]),\n",
      " array([8.59390094e+03, 1.90367448e+03, 1.00000000e+00]),\n",
      " array([9.48277907e+03, 1.86663789e+03, 1.00000000e+00]),\n",
      " array([6.80416474e+02, 2.52095096e+03, 1.00000000e+00]),\n",
      " array([1.66805884e+03, 2.64440626e+03, 1.00000000e+00]),\n",
      " array([2.56928250e+03, 2.57033308e+03, 1.00000000e+00]),\n",
      " array([3.56927040e+03, 2.73082497e+03, 1.00000000e+00]),\n",
      " array([4.58160382e+03, 2.64440626e+03, 1.00000000e+00]),\n",
      " array([5.55690066e+03, 2.73082497e+03, 1.00000000e+00]),\n",
      " array([6.58157962e+03, 2.76786155e+03, 1.00000000e+00]),\n",
      " array([7.54453092e+03, 2.71847944e+03, 1.00000000e+00]),\n",
      " array([8.51982776e+03, 2.80489814e+03, 1.00000000e+00]),\n",
      " array([9.45808801e+03, 2.85428026e+03, 1.00000000e+00]),\n",
      " array([6.68070944e+02, 3.54562992e+03, 1.00000000e+00]),\n",
      " array([1.66805884e+03, 3.65673968e+03, 1.00000000e+00]),\n",
      " array([2.54459144e+03, 3.66908521e+03, 1.00000000e+00]),\n",
      " array([3.49519722e+03, 3.68143074e+03, 1.00000000e+00]),\n",
      " array([4.51987618e+03, 3.64439416e+03, 1.00000000e+00]),\n",
      " array([5.51986407e+03, 3.65673968e+03, 1.00000000e+00]),\n",
      " array([6.50750644e+03, 3.73081286e+03, 1.00000000e+00]),\n",
      " array([7.53218539e+03, 3.75550392e+03, 1.00000000e+00]),\n",
      " array([8.53217329e+03, 3.76784945e+03, 1.00000000e+00]),\n",
      " array([9.45808801e+03, 3.86661369e+03, 1.00000000e+00]),\n",
      " array([6.06343296e+02, 4.52092676e+03, 1.00000000e+00]),\n",
      " array([1.59398566e+03, 4.57030887e+03, 1.00000000e+00]),\n",
      " array([2.55693697e+03, 4.59499993e+03, 1.00000000e+00]),\n",
      " array([3.51988828e+03, 4.65672758e+03, 1.00000000e+00]),\n",
      " array([4.51987618e+03, 4.65672758e+03, 1.00000000e+00]),\n",
      " array([5.50751854e+03, 4.64438205e+03, 1.00000000e+00]),\n",
      " array([6.48281538e+03, 4.75549182e+03, 1.00000000e+00]),\n",
      " array([7.47045775e+03, 4.74314629e+03, 1.00000000e+00]),\n",
      " array([8.45810011e+03, 4.80487394e+03, 1.00000000e+00]),\n",
      " array([9.42105142e+03, 4.84191053e+03, 1.00000000e+00]),\n",
      " array([5.44615649e+02, 5.39745936e+03, 1.00000000e+00]),\n",
      " array([1.60633119e+03, 5.50856912e+03, 1.00000000e+00]),\n",
      " array([2.51990038e+03, 5.55795124e+03, 1.00000000e+00]),\n",
      " array([3.47050616e+03, 5.60733336e+03, 1.00000000e+00]),\n",
      " array([4.48283959e+03, 5.64436995e+03, 1.00000000e+00]),\n",
      " array([5.47048195e+03, 5.63202442e+03, 1.00000000e+00]),\n",
      " array([6.48281538e+03, 5.68140654e+03, 1.00000000e+00]),\n",
      " array([7.44576669e+03, 5.69375207e+03, 1.00000000e+00]),\n",
      " array([8.48279117e+03, 5.78017077e+03, 1.00000000e+00]),\n",
      " array([9.34697824e+03, 5.81720736e+03, 1.00000000e+00]),\n",
      " array([5.69306708e+02, 6.50855702e+03, 1.00000000e+00]),\n",
      " array([1.48287590e+03, 6.50855702e+03, 1.00000000e+00]),\n",
      " array([2.48286379e+03, 6.57028467e+03, 1.00000000e+00]),\n",
      " array([3.48285169e+03, 6.60732126e+03, 1.00000000e+00]),\n",
      " array([4.49518512e+03, 6.58263020e+03, 1.00000000e+00]),\n",
      " array([5.44579089e+03, 6.61966679e+03, 1.00000000e+00]),\n",
      " array([6.42108773e+03, 6.69373996e+03, 1.00000000e+00]),\n",
      " array([7.38403904e+03, 6.70608549e+03, 1.00000000e+00]),\n",
      " array([8.42106353e+03, 6.71843102e+03, 1.00000000e+00]),\n",
      " array([9.35932377e+03, 6.75546761e+03, 1.00000000e+00]),\n",
      " array([5.32270119e+02, 7.50854492e+03, 1.00000000e+00]),\n",
      " array([1.49522143e+03, 7.53323598e+03, 1.00000000e+00]),\n",
      " array([2.49520932e+03, 7.53323598e+03, 1.00000000e+00]),\n",
      " array([3.47050616e+03, 7.58261809e+03, 1.00000000e+00]),\n",
      " array([4.47049406e+03, 7.63200021e+03, 1.00000000e+00]),\n",
      " array([5.39640878e+03, 7.63200021e+03, 1.00000000e+00]),\n",
      " array([6.40874220e+03, 7.68138233e+03, 1.00000000e+00]),\n",
      " array([7.37169351e+03, 7.68138233e+03, 1.00000000e+00]),\n",
      " array([8.33464482e+03, 7.64434574e+03, 1.00000000e+00]),\n",
      " array([9.27290507e+03, 7.80483763e+03, 1.00000000e+00]),\n",
      " array([4.82888001e+02, 8.44680516e+03, 1.00000000e+00]),\n",
      " array([1.43349378e+03, 8.53322387e+03, 1.00000000e+00]),\n",
      " array([2.42113615e+03, 8.54556940e+03, 1.00000000e+00]),\n",
      " array([3.44581510e+03, 8.57026046e+03, 1.00000000e+00]),\n",
      " array([4.42111194e+03, 8.60729705e+03, 1.00000000e+00]),\n",
      " array([5.35937219e+03, 8.60729705e+03, 1.00000000e+00]),\n",
      " array([6.33466902e+03, 8.66902470e+03, 1.00000000e+00]),\n",
      " array([7.33465692e+03, 8.64433364e+03, 1.00000000e+00]),\n",
      " array([4.33505882e+02, 9.36037435e+03, 1.00000000e+00]),\n",
      " array([1.38411166e+03, 9.43444753e+03, 1.00000000e+00]),\n",
      " array([2.34706297e+03, 9.49617518e+03, 1.00000000e+00]),\n",
      " array([3.37174192e+03, 9.54555730e+03, 1.00000000e+00]),\n",
      " array([4.37172982e+03, 9.55790283e+03, 1.00000000e+00]),\n",
      " array([5.30999007e+03, 9.57024836e+03, 1.00000000e+00]),\n",
      " array([6.29763244e+03, 9.57024836e+03, 1.00000000e+00]),\n",
      " array([7.27292927e+03, 9.61963048e+03, 1.00000000e+00]),\n",
      " array([8.22353505e+03, 9.64432153e+03, 1.00000000e+00]),\n",
      " array([9.12475871e+03, 9.60728495e+03, 1.00000000e+00])]\n"
     ]
    }
   ],
   "source": [
    "import pprint\n",
    "pprint.pprint(pts)"
   ]
  },
  {
   "cell_type": "code",
   "execution_count": 24,
   "metadata": {},
   "outputs": [],
   "source": [
    "pts_str = [str(f\"{pt[0]} {pt[1]}\\n\") for pt in pts]\n",
    "with open(\"cell_centers.txt\", \"w\") as f:\n",
    "    f.writelines(pts_str)"
   ]
  },
  {
   "cell_type": "code",
   "execution_count": 30,
   "metadata": {},
   "outputs": [],
   "source": [
    "from matplotlib import image\n",
    "\n",
    "for k, pt in enumerate(pts):\n",
    "    for i in range(2):\n",
    "        for j in range(2):\n",
    "            patch = im[int(pt[1])-i*230:int(pt[1])-i*230+230,int(pt[0])-j*230:int(pt[0])-j*230+230]\n",
    "            image.imsave(f\"cells/{k*4+i*2+j}.jpg\",patch)"
   ]
  }
 ],
 "metadata": {
  "kernelspec": {
   "display_name": "tf",
   "language": "python",
   "name": "python3"
  },
  "language_info": {
   "codemirror_mode": {
    "name": "ipython",
    "version": 3
   },
   "file_extension": ".py",
   "mimetype": "text/x-python",
   "name": "python",
   "nbconvert_exporter": "python",
   "pygments_lexer": "ipython3",
   "version": "3.7.16 (default, Jan 17 2023, 22:20:44) \n[GCC 11.2.0]"
  },
  "orig_nbformat": 4,
  "vscode": {
   "interpreter": {
    "hash": "4c84b1e26ff9a39b58ec0d561f16a11b934ea922be54a31cac3aff696605be4c"
   }
  }
 },
 "nbformat": 4,
 "nbformat_minor": 2
}
